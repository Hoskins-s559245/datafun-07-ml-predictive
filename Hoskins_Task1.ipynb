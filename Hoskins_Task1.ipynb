{
 "cells": [
  {
   "attachments": {},
   "cell_type": "markdown",
   "metadata": {},
   "source": [
    "### Student Name: Ash Hoskins,#S559245\n",
    "### Course: CSIS 44-609 - Data Analytics Fundamentals\n",
    "### Professor Denise Case\n",
    "### Domain: Geospatial Data Module 7 Task 1: Chapter 10 Project Date: 2/27/2023"
   ]
  },
  {
   "attachments": {},
   "cell_type": "markdown",
   "metadata": {},
   "source": [
    "#### 10.2 Customer Class Account"
   ]
  },
  {
   "cell_type": "code",
   "execution_count": 105,
   "metadata": {},
   "outputs": [],
   "source": [
    "#Import dependency Library - Had to follow  \n",
    "from account import Account\n",
    "from decimal import Decimal"
   ]
  },
  {
   "cell_type": "code",
   "execution_count": 106,
   "metadata": {},
   "outputs": [
    {
     "data": {
      "text/plain": [
       "'John Green'"
      ]
     },
     "execution_count": 106,
     "metadata": {},
     "output_type": "execute_result"
    }
   ],
   "source": [
    "account1 = Account('John Green', Decimal('50.00'))\n",
    "account1.name"
   ]
  },
  {
   "cell_type": "code",
   "execution_count": 107,
   "metadata": {},
   "outputs": [
    {
     "data": {
      "text/plain": [
       "Decimal('50.00')"
      ]
     },
     "execution_count": 107,
     "metadata": {},
     "output_type": "execute_result"
    }
   ],
   "source": [
    "account1.balance\n"
   ]
  },
  {
   "cell_type": "code",
   "execution_count": 108,
   "metadata": {},
   "outputs": [
    {
     "data": {
      "text/plain": [
       "Decimal('75.53')"
      ]
     },
     "execution_count": 108,
     "metadata": {},
     "output_type": "execute_result"
    }
   ],
   "source": [
    "account1.deposit(Decimal('25.53'))\n",
    "account1.balance"
   ]
  },
  {
   "attachments": {},
   "cell_type": "markdown",
   "metadata": {},
   "source": [
    "#### 10.3 Conrolling Access to Attributes"
   ]
  },
  {
   "cell_type": "code",
   "execution_count": 109,
   "metadata": {},
   "outputs": [
    {
     "data": {
      "text/plain": [
       "Decimal('-1000.00')"
      ]
     },
     "execution_count": 109,
     "metadata": {},
     "output_type": "execute_result"
    }
   ],
   "source": [
    "account1.balance = Decimal('-1000.00')\n",
    "account1.balance"
   ]
  },
  {
   "attachments": {},
   "cell_type": "markdown",
   "metadata": {},
   "source": [
    "#### 10.4 Properties for Data Access"
   ]
  },
  {
   "cell_type": "code",
   "execution_count": 110,
   "metadata": {},
   "outputs": [],
   "source": [
    "from timewithproperties import Time"
   ]
  },
  {
   "cell_type": "code",
   "execution_count": 111,
   "metadata": {},
   "outputs": [
    {
     "name": "stdout",
     "output_type": "stream",
     "text": [
      "6:30:00 AM\n"
     ]
    }
   ],
   "source": [
    "wake_up = Time(hour = 6, minute = 30)\n",
    "print(wake_up)"
   ]
  },
  {
   "cell_type": "code",
   "execution_count": 112,
   "metadata": {},
   "outputs": [
    {
     "data": {
      "text/plain": [
       "6"
      ]
     },
     "execution_count": 112,
     "metadata": {},
     "output_type": "execute_result"
    }
   ],
   "source": [
    "wake_up.hour"
   ]
  },
  {
   "cell_type": "code",
   "execution_count": 113,
   "metadata": {},
   "outputs": [
    {
     "name": "stdout",
     "output_type": "stream",
     "text": [
      "7:45:00 AM\n"
     ]
    }
   ],
   "source": [
    "wake_up.set_time(hour = 7, minute = 45)\n",
    "print(wake_up)"
   ]
  },
  {
   "cell_type": "code",
   "execution_count": 114,
   "metadata": {},
   "outputs": [
    {
     "name": "stdout",
     "output_type": "stream",
     "text": [
      "9:45:00 AM\n"
     ]
    }
   ],
   "source": [
    "wake_up.hour = 9\n",
    "print(wake_up)"
   ]
  },
  {
   "attachments": {},
   "cell_type": "markdown",
   "metadata": {},
   "source": [
    "#### 10.5 Simulating \"Private\" Attributes"
   ]
  },
  {
   "cell_type": "code",
   "execution_count": 115,
   "metadata": {},
   "outputs": [],
   "source": [
    "from private import PrivateClass\n",
    "my_object = PrivateClass()"
   ]
  },
  {
   "cell_type": "code",
   "execution_count": 116,
   "metadata": {},
   "outputs": [
    {
     "data": {
      "text/plain": [
       "'public'"
      ]
     },
     "execution_count": 116,
     "metadata": {},
     "output_type": "execute_result"
    }
   ],
   "source": [
    "my_object.public_data"
   ]
  },
  {
   "cell_type": "code",
   "execution_count": 117,
   "metadata": {},
   "outputs": [
    {
     "ename": "AttributeError",
     "evalue": "'PrivateClass' object has no attribute '__private_data'",
     "output_type": "error",
     "traceback": [
      "\u001b[1;31m---------------------------------------------------------------------------\u001b[0m",
      "\u001b[1;31mAttributeError\u001b[0m                            Traceback (most recent call last)",
      "Cell \u001b[1;32mIn[117], line 2\u001b[0m\n\u001b[0;32m      1\u001b[0m \u001b[39m#Intentional error to test private attributes\u001b[39;00m\n\u001b[1;32m----> 2\u001b[0m my_object\u001b[39m.\u001b[39;49m__private_data\n",
      "\u001b[1;31mAttributeError\u001b[0m: 'PrivateClass' object has no attribute '__private_data'"
     ]
    }
   ],
   "source": [
    "#Intentional error to test private attributes\n",
    "my_object.__private_data"
   ]
  },
  {
   "cell_type": "code",
   "execution_count": null,
   "metadata": {},
   "outputs": [
    {
     "data": {
      "text/plain": [
       "'modified'"
      ]
     },
     "execution_count": 28,
     "metadata": {},
     "output_type": "execute_result"
    }
   ],
   "source": [
    "my_object._PrivateClass__private_data = 'modified'\n",
    "my_object._PrivateClass__private_data"
   ]
  },
  {
   "attachments": {},
   "cell_type": "markdown",
   "metadata": {},
   "source": [
    "#### 10.6 Case Study Card Shuffling and Dealing Simulation"
   ]
  },
  {
   "cell_type": "code",
   "execution_count": null,
   "metadata": {},
   "outputs": [],
   "source": [
    "from deck import DeckOfCards\n",
    "from pathlib   import Path\n",
    "import matplotlib.pyplot as plt\n",
    "import matplotlib.image as mpimg\n",
    "deck1 = DeckOfCards()"
   ]
  },
  {
   "cell_type": "code",
   "execution_count": null,
   "metadata": {},
   "outputs": [
    {
     "name": "stdout",
     "output_type": "stream",
     "text": [
      "Ace of Hearts      2 of Hearts        3 of Hearts        4 of Hearts        \n",
      "5 of Hearts        6 of Hearts        7 of Hearts        8 of Hearts        \n",
      "9 of Hearts        10 of Hearts       Jack of Hearts     Queen of Hearts    \n",
      "King of Hearts     Ace of Diamonds    2 of Diamonds      3 of Diamonds      \n",
      "4 of Diamonds      5 of Diamonds      6 of Diamonds      7 of Diamonds      \n",
      "8 of Diamonds      9 of Diamonds      10 of Diamonds     Jack of Diamonds   \n",
      "Queen of Diamonds  King of Diamonds   Ace of Clubs       2 of Clubs         \n",
      "3 of Clubs         4 of Clubs         5 of Clubs         6 of Clubs         \n",
      "7 of Clubs         8 of Clubs         9 of Clubs         10 of Clubs        \n",
      "Jack of Clubs      Queen of Clubs     King of Clubs      Ace of Spades      \n",
      "2 of Spades        3 of Spades        4 of Spades        5 of Spades        \n",
      "6 of Spades        7 of Spades        8 of Spades        9 of Spades        \n",
      "10 of Spades       Jack of Spades     Queen of Spades    King of Spades     \n",
      "\n"
     ]
    }
   ],
   "source": [
    "print(deck1)"
   ]
  },
  {
   "cell_type": "code",
   "execution_count": null,
   "metadata": {},
   "outputs": [
    {
     "name": "stdout",
     "output_type": "stream",
     "text": [
      "3 of Hearts        Ace of Clubs       5 of Spades        6 of Diamonds      \n",
      "Jack of Clubs      3 of Diamonds      Jack of Hearts     4 of Spades        \n",
      "2 of Hearts        2 of Diamonds      King of Diamonds   Ace of Diamonds    \n",
      "Queen of Spades    Queen of Diamonds  King of Spades     King of Hearts     \n",
      "8 of Clubs         5 of Diamonds      5 of Clubs         8 of Diamonds      \n",
      "10 of Clubs        7 of Spades        2 of Clubs         3 of Spades        \n",
      "King of Clubs      Jack of Spades     9 of Clubs         4 of Hearts        \n",
      "10 of Diamonds     9 of Hearts        9 of Diamonds      8 of Spades        \n",
      "7 of Clubs         9 of Spades        5 of Hearts        4 of Clubs         \n",
      "8 of Hearts        2 of Spades        7 of Hearts        Ace of Hearts      \n",
      "6 of Spades        Queen of Hearts    Jack of Diamonds   4 of Diamonds      \n",
      "10 of Spades       Queen of Clubs     6 of Hearts        3 of Clubs         \n",
      "Ace of Spades      6 of Clubs         10 of Hearts       7 of Diamonds      \n",
      "\n"
     ]
    }
   ],
   "source": [
    "DeckOfCards.shuffle(deck1)\n",
    "print(deck1)"
   ]
  },
  {
   "cell_type": "code",
   "execution_count": null,
   "metadata": {},
   "outputs": [
    {
     "data": {
      "text/plain": [
       "'3 of Hearts'"
      ]
     },
     "execution_count": 97,
     "metadata": {},
     "output_type": "execute_result"
    }
   ],
   "source": [
    "card = deck1.deal_card()\n",
    "str(card)"
   ]
  },
  {
   "cell_type": "code",
   "execution_count": null,
   "metadata": {},
   "outputs": [
    {
     "data": {
      "text/plain": [
       "'3_of_Hearts.png'"
      ]
     },
     "execution_count": 98,
     "metadata": {},
     "output_type": "execute_result"
    }
   ],
   "source": [
    "card.image_name"
   ]
  },
  {
   "cell_type": "code",
   "execution_count": null,
   "metadata": {},
   "outputs": [
    {
     "name": "stdout",
     "output_type": "stream",
     "text": [
      "Using matplotlib backend: TkAgg\n"
     ]
    }
   ],
   "source": [
    "%matplotlib"
   ]
  },
  {
   "cell_type": "code",
   "execution_count": null,
   "metadata": {},
   "outputs": [],
   "source": [
    "path = Path('.').joinpath('card_images')"
   ]
  },
  {
   "cell_type": "code",
   "execution_count": null,
   "metadata": {},
   "outputs": [],
   "source": [
    "figure, axes_list = plt.subplots(nrows = 4, ncols = 13)"
   ]
  },
  {
   "cell_type": "code",
   "execution_count": null,
   "metadata": {},
   "outputs": [
    {
     "ename": "AttributeError",
     "evalue": "'XAxis' object has no attribute 'setvisible'",
     "output_type": "error",
     "traceback": [
      "\u001b[1;31m---------------------------------------------------------------------------\u001b[0m",
      "\u001b[1;31mAttributeError\u001b[0m                            Traceback (most recent call last)",
      "Cell \u001b[1;32mIn[104], line 2\u001b[0m\n\u001b[0;32m      1\u001b[0m \u001b[39mfor\u001b[39;00m axes \u001b[39min\u001b[39;00m axes_list\u001b[39m.\u001b[39mravel():\n\u001b[1;32m----> 2\u001b[0m     axes\u001b[39m.\u001b[39;49mget_xaxis()\u001b[39m.\u001b[39;49msetvisible(\u001b[39mFalse\u001b[39;00m)\n\u001b[0;32m      3\u001b[0m     axes\u001b[39m.\u001b[39mget_yaxis()\u001b[39m.\u001b[39msetvisible(\u001b[39mFalse\u001b[39;00m)\n\u001b[0;32m      4\u001b[0m     \u001b[39m#axes.get_yaxis().setvisible(False)\u001b[39;00m\n",
      "\u001b[1;31mAttributeError\u001b[0m: 'XAxis' object has no attribute 'setvisible'"
     ]
    }
   ],
   "source": [
    "# Does not work, followed book. Ran out of time to troubleshoot.\n",
    "for axes in axes_list.ravel():\n",
    "    axes.get_xaxis().setvisible(False)\n",
    "    axes.get_yaxis().setvisible(False)\n",
    "    image_name = deck1.deal_card().image_name\n",
    "    img = mpimg.imread(str(path.joinpath(image_name).resolve()))\n",
    "    axes.imshow(img)"
   ]
  },
  {
   "attachments": {},
   "cell_type": "markdown",
   "metadata": {},
   "source": [
    "#### 10.8 Building an Inheritance Hierarchy: Introducting Polymorphism."
   ]
  },
  {
   "cell_type": "code",
   "execution_count": 122,
   "metadata": {},
   "outputs": [],
   "source": [
    "from commissionemployee import CommissionEmployee\n"
   ]
  },
  {
   "cell_type": "code",
   "execution_count": 123,
   "metadata": {},
   "outputs": [
    {
     "data": {
      "text/plain": [
       "CommissionEmployee: Sue Jones\n",
       "social security number: 333-33-3333\n",
       "gross sales: 10000.00\n",
       "commission rate: 0.06"
      ]
     },
     "execution_count": 123,
     "metadata": {},
     "output_type": "execute_result"
    }
   ],
   "source": [
    "c = CommissionEmployee('Sue', 'Jones', '333-33-3333', Decimal('10000.00'), Decimal('0.06'))\n",
    "c"
   ]
  },
  {
   "cell_type": "code",
   "execution_count": 125,
   "metadata": {},
   "outputs": [
    {
     "name": "stdout",
     "output_type": "stream",
     "text": [
      "600.00\n"
     ]
    }
   ],
   "source": [
    "print(f'{c.earnings():,.2f}')"
   ]
  },
  {
   "cell_type": "code",
   "execution_count": 126,
   "metadata": {},
   "outputs": [
    {
     "name": "stdout",
     "output_type": "stream",
     "text": [
      "2,000.00\n"
     ]
    }
   ],
   "source": [
    "c.gross_sales = Decimal('20000.00')\n",
    "c.commission_rate = Decimal('0.1')\n",
    "print(f'{c.earnings():,.2f}')"
   ]
  },
  {
   "cell_type": "code",
   "execution_count": 127,
   "metadata": {},
   "outputs": [],
   "source": [
    "from salariedcommissionemployee import SalariedCommissionEmployee"
   ]
  },
  {
   "cell_type": "code",
   "execution_count": 128,
   "metadata": {},
   "outputs": [],
   "source": [
    "s = SalariedCommissionEmployee('Bob', 'Lewis', '444-44-4444', Decimal('5000.00'), Decimal('0.04'), Decimal('300.00'))"
   ]
  },
  {
   "cell_type": "code",
   "execution_count": 129,
   "metadata": {},
   "outputs": [
    {
     "name": "stdout",
     "output_type": "stream",
     "text": [
      "Bob Lewis 444-44-4444 5000.00 0.04 300.00\n"
     ]
    }
   ],
   "source": [
    "print(s.first_name, s.last_name,s.ssn, s.gross_sales, s.commission_rate, s.base_salary)"
   ]
  },
  {
   "cell_type": "code",
   "execution_count": 130,
   "metadata": {},
   "outputs": [
    {
     "name": "stdout",
     "output_type": "stream",
     "text": [
      "500.00\n"
     ]
    }
   ],
   "source": [
    "print(f'{s.earnings():,.2f}')"
   ]
  },
  {
   "cell_type": "code",
   "execution_count": 131,
   "metadata": {},
   "outputs": [
    {
     "name": "stdout",
     "output_type": "stream",
     "text": [
      "SalariedCommissionEmployee: Bob Lewis\n",
      "social security number: 444-44-4444\n",
      "gross sales: 10000.00\n",
      "commission rate: 0.05\n",
      "base salary: 1000.00\n"
     ]
    }
   ],
   "source": [
    "s.gross_sales = Decimal('10000.00')\n",
    "s.commission_rate = Decimal('0.05')\n",
    "s.base_salary = Decimal('1000.00')\n",
    "print(s)"
   ]
  },
  {
   "cell_type": "code",
   "execution_count": 132,
   "metadata": {},
   "outputs": [
    {
     "name": "stdout",
     "output_type": "stream",
     "text": [
      "1,500.00\n"
     ]
    }
   ],
   "source": [
    "print(f'{s.earnings():,.2f}')"
   ]
  },
  {
   "cell_type": "code",
   "execution_count": 133,
   "metadata": {},
   "outputs": [
    {
     "data": {
      "text/plain": [
       "True"
      ]
     },
     "execution_count": 133,
     "metadata": {},
     "output_type": "execute_result"
    }
   ],
   "source": [
    "issubclass(SalariedCommissionEmployee, CommissionEmployee)"
   ]
  },
  {
   "cell_type": "code",
   "execution_count": 134,
   "metadata": {},
   "outputs": [
    {
     "data": {
      "text/plain": [
       "True"
      ]
     },
     "execution_count": 134,
     "metadata": {},
     "output_type": "execute_result"
    }
   ],
   "source": [
    "isinstance(s, CommissionEmployee)"
   ]
  },
  {
   "cell_type": "code",
   "execution_count": 135,
   "metadata": {},
   "outputs": [
    {
     "data": {
      "text/plain": [
       "True"
      ]
     },
     "execution_count": 135,
     "metadata": {},
     "output_type": "execute_result"
    }
   ],
   "source": [
    "isinstance(s, SalariedCommissionEmployee)"
   ]
  },
  {
   "cell_type": "code",
   "execution_count": 136,
   "metadata": {},
   "outputs": [
    {
     "name": "stdout",
     "output_type": "stream",
     "text": [
      "CommissionEmployee: Sue Jones\n",
      "social security number: 333-33-3333\n",
      "gross sales: 20000.00\n",
      "commission rate: 0.10\n",
      "2,000.00\n",
      "\n",
      "SalariedCommissionEmployee: Bob Lewis\n",
      "social security number: 444-44-4444\n",
      "gross sales: 10000.00\n",
      "commission rate: 0.05\n",
      "base salary: 1000.00\n",
      "1,500.00\n",
      "\n"
     ]
    }
   ],
   "source": [
    "employees = [c, s]\n",
    "\n",
    "for employee in employees:\n",
    "    print(employee)\n",
    "    print(f'{employee.earnings():,.2f}\\n')"
   ]
  },
  {
   "cell_type": "code",
   "execution_count": null,
   "metadata": {},
   "outputs": [],
   "source": []
  }
 ],
 "metadata": {
  "kernelspec": {
   "display_name": "base",
   "language": "python",
   "name": "python3"
  },
  "language_info": {
   "codemirror_mode": {
    "name": "ipython",
    "version": 3
   },
   "file_extension": ".py",
   "mimetype": "text/x-python",
   "name": "python",
   "nbconvert_exporter": "python",
   "pygments_lexer": "ipython3",
   "version": "3.10.8"
  },
  "orig_nbformat": 4,
  "vscode": {
   "interpreter": {
    "hash": "e650c6bab76934ae78d8bec2fe13bdfe0ac8f6f97dab581f7266564add589954"
   }
  }
 },
 "nbformat": 4,
 "nbformat_minor": 2
}
